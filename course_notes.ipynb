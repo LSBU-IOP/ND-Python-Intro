{
 "cells": [
  {
   "cell_type": "markdown",
   "id": "3a83fe4d",
   "metadata": {},
   "source": [
    "# Variables\n",
    "\n",
    "Variables are how we store information when programming, variables have a name and contain some data (a number or word etc.)  \n",
    "\n",
    "Create a variable by giving it a name, and setting it equal to some data with =  \n",
    "\n",
    "This is called <b>assignment</b> \n",
    "\n",
    "In Python, we don't need to <b>declare</b> variables like in some other languages, this means we don't need to have a line at the start of our program where we say what our variable is called and specify the type of data it will contain. We can create and assign any type of data to variables at any point in our program. This means that Python is what is called a <b>type-inferred</b> programming language."
   ]
  },
  {
   "cell_type": "code",
   "execution_count": 2,
   "id": "4059a042",
   "metadata": {},
   "outputs": [
    {
     "name": "stdout",
     "output_type": "stream",
     "text": [
      "1000000\n",
      "1\n",
      "2\n"
     ]
    }
   ],
   "source": [
    "variable = 1\n",
    "a = 2\n",
    "a,b,c = 1,2,3\n",
    "this_is_a_long_variable_name = 1000000\n",
    "good_naming_convention = 100.1\n",
    "BadNamingConvention = 6\n",
    "worsenamingconvention = 'a sentence'\n",
    "\n",
    "# print() is a FUNCTION which will display the value of a variable\n",
    "\n",
    "print(this_is_a_long_variable_name)\n",
    "\n",
    "# We can reassign named variables in the same way\n",
    "print(variable)\n",
    "variable = 2\n",
    "print(variable)"
   ]
  },
  {
   "cell_type": "markdown",
   "id": "d87ff3cc",
   "metadata": {},
   "source": [
    "# Input and output\n",
    "An essential part of programming is the ability to input and output data. This allows users to interact with programs and view the results of the program."
   ]
  },
  {
   "cell_type": "code",
   "execution_count": 3,
   "id": "a4611f46",
   "metadata": {},
   "outputs": [
    {
     "name": "stdout",
     "output_type": "stream",
     "text": [
      "Enter a number 51\n",
      "You entered 51\n"
     ]
    }
   ],
   "source": [
    "a=input(\"Enter a number \")\n",
    "print(\"You entered\", a)"
   ]
  },
  {
   "cell_type": "markdown",
   "id": "dd54d1d8",
   "metadata": {},
   "source": [
    "# Data types\n",
    "There are lots of different types of data that you will need to use in programs at different points. Python makes it quite easy to use different types and switch between them. "
   ]
  },
  {
   "cell_type": "code",
   "execution_count": 3,
   "id": "3b28ccce",
   "metadata": {},
   "outputs": [
    {
     "name": "stdout",
     "output_type": "stream",
     "text": [
      "10\n",
      "10.0\n",
      "10\n"
     ]
    }
   ],
   "source": [
    "an_integer = 1\n",
    "#float = 1.1    if your variable name appears green, its a Python keyword - don't use it!\n",
    "a_float = 1.105\n",
    "a_boolean = True\n",
    "another_bool = False\n",
    "a_string = \"some letters and words and ch4r4ct3rs @\\/.f27y\"\n",
    "another_string = \"a\"\n",
    "\n",
    "#we can convert from one type of data to another\n",
    "my_int = 10\n",
    "print(my_int)\n",
    "\n",
    "#the FUNCTION float() will convert something to a float, int() will convert to integer\n",
    "my_int=float(my_int)\n",
    "print(my_int)\n",
    "my_int = int(my_int)\n",
    "print(my_int)\n",
    "\n",
    "#string_to_int = int(\"a string\")\n",
    "string_to_int = int(\"1000\")"
   ]
  },
  {
   "cell_type": "markdown",
   "id": "dc73dfcc",
   "metadata": {},
   "source": [
    "# Operators\n",
    "Operators perform operations on variables and values, i.e. we can do maths in Python using the basic arithmetic operations."
   ]
  },
  {
   "cell_type": "code",
   "execution_count": 4,
   "id": "59c25dbd",
   "metadata": {},
   "outputs": [
    {
     "name": "stdout",
     "output_type": "stream",
     "text": [
      "13\n",
      "7\n",
      "30\n",
      "3.3333333333333335\n",
      "1\n",
      "1000\n",
      "3\n"
     ]
    }
   ],
   "source": [
    "# OPERATIONS\n",
    "x = 10\n",
    "y = 3\n",
    "\n",
    "# Addition\n",
    "print(x+y)\n",
    "\n",
    "# Subtraction\n",
    "print(x-y)\n",
    "\n",
    "# Multiplication\n",
    "print(x*y)\n",
    "\n",
    "# Division\n",
    "print(x/y)\n",
    "\n",
    "# Modulus\n",
    "print(x%y)\n",
    "\n",
    "# Exponentionation\n",
    "print(x**y)\n",
    "\n",
    "# Floor division\n",
    "print(x//y)"
   ]
  },
  {
   "cell_type": "markdown",
   "id": "46a3d0e3",
   "metadata": {},
   "source": [
    "# Conditionals and Iteration\n",
    "Conditions are used to control the flow of a program, essentially they are used to only perform some operations or sections of code if some condition is met.\n",
    "\n",
    "Iteration or looping is the process of repeating certain sections of code a number of times. If we specify the number of times the loop should repeat, we call this <b>definite</b> iteration, if we tell the program to repeat the loop until some condition is met it is called <b>indefinite</b> iteration.\n",
    "\n",
    "### Conditional statements (if, elif, else)"
   ]
  },
  {
   "cell_type": "code",
   "execution_count": 4,
   "id": "e8888123",
   "metadata": {},
   "outputs": [
    {
     "name": "stdout",
     "output_type": "stream",
     "text": [
      "a is greater than b\n",
      "1\n",
      "2\n",
      "3\n",
      "4\n",
      "5\n",
      "6\n",
      "7\n",
      "8\n",
      "9\n",
      "1\n",
      "2\n",
      "3\n",
      "4\n",
      "5\n",
      "6\n",
      "7\n",
      "8\n",
      "9\n"
     ]
    }
   ],
   "source": [
    "a = 5\n",
    "b = 1\n",
    "\n",
    "# if statements\n",
    "if a == b:\n",
    "    print(\"this line of code will run if a is equal to b\")\n",
    "    \n",
    "# we can add other conditions, which will run if other conditions are met\n",
    "if a<b:\n",
    "    print('a is less than b')\n",
    "elif a==b:\n",
    "    print('a is equal to b')\n",
    "else:\n",
    "    print('a is greater than b')\n",
    "    \n",
    "# < is \"less than\"\n",
    "# > is \"greater than\"\n",
    "# == is \"equal to\"\n",
    "# != is \"not equal to\" \n",
    "# <= or >=, \"less than or equal to\" and \"greater than or equal to\""
   ]
  },
  {
   "cell_type": "markdown",
   "id": "49ab615c",
   "metadata": {},
   "source": [
    "### Iteration (loops) are \"for\" or \"while\" statements"
   ]
  },
  {
   "cell_type": "code",
   "execution_count": 5,
   "id": "1fe0d2ae",
   "metadata": {},
   "outputs": [
    {
     "name": "stdout",
     "output_type": "stream",
     "text": [
      "1\n",
      "2\n",
      "3\n",
      "4\n",
      "5\n",
      "6\n",
      "7\n",
      "8\n",
      "9\n",
      "1\n",
      "2\n",
      "10\n",
      "a\n",
      "b\n",
      "c\n",
      "1\n",
      "2\n",
      "3\n",
      "4\n",
      "5\n",
      "6\n",
      "7\n",
      "8\n",
      "9\n"
     ]
    }
   ],
   "source": [
    "# definite loops\n",
    "for a in range(1,10):\n",
    "    print(a)\n",
    "    \n",
    "for x in [1,2,10,\"a\",\"b\",\"c\"]:\n",
    "    print(x)\n",
    "    \n",
    "# indefinite loop\n",
    "a=1\n",
    "while a<10:\n",
    "    print(a)\n",
    "    a = a+1     #increase a by 1 on every loop, when a = 10 the loop will stop"
   ]
  }
 ],
 "metadata": {
  "kernelspec": {
   "display_name": "Python 3 (ipykernel)",
   "language": "python",
   "name": "python3"
  },
  "language_info": {
   "codemirror_mode": {
    "name": "ipython",
    "version": 3
   },
   "file_extension": ".py",
   "mimetype": "text/x-python",
   "name": "python",
   "nbconvert_exporter": "python",
   "pygments_lexer": "ipython3",
   "version": "3.9.13"
  }
 },
 "nbformat": 4,
 "nbformat_minor": 5
}

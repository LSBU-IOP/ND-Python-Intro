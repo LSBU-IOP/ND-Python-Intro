{
 "cells": [
  {
   "cell_type": "markdown",
   "id": "3a83fe4d",
   "metadata": {},
   "source": [
    "# Variables\n",
    "\n",
    "Variables are how we store information when programming, variables have a name and contain some data (a number or word etc.)  \n",
    "\n",
    "Create a variable by giving it a name, and setting it equal to some data with =  \n",
    "\n",
    "This is called <b>assignment</b> \n",
    "\n",
    "In Python, we don't need to <b>declare</b> variables like in some other languages, this means we don't need to have a line at the start of our program where we say what our variable is called and specify the type of data it will contain. We can create and assign any type of data to variables at any point in our program. This means that Python is what is called a <b>type-inferred</b> programming language."
   ]
  },
  {
   "cell_type": "code",
   "execution_count": 44,
   "id": "4059a042",
   "metadata": {},
   "outputs": [],
   "source": [
    "variable = 1\n",
    "a = 2\n",
    "a,b,c = 1,2,3\n",
    "this_is_a_long_variable_name = 1000000\n",
    "good_naming_convention = 100.1\n",
    "BadNamingConvention = 6\n",
    "worsenamingconvention = 'a sentence'"
   ]
  },
  {
   "cell_type": "code",
   "execution_count": 45,
   "id": "659c0e98",
   "metadata": {},
   "outputs": [
    {
     "name": "stdout",
     "output_type": "stream",
     "text": [
      "1000000\n"
     ]
    }
   ],
   "source": [
    "# print() is a FUNCTION which will display the value of a variable\n",
    "\n",
    "print(this_is_a_long_variable_name)"
   ]
  },
  {
   "cell_type": "code",
   "execution_count": 46,
   "id": "383d1a47",
   "metadata": {},
   "outputs": [
    {
     "name": "stdout",
     "output_type": "stream",
     "text": [
      "1\n",
      "2\n"
     ]
    }
   ],
   "source": [
    "# We can reassign named variables in the same way\n",
    "print(variable)\n",
    "variable = 2\n",
    "print(variable)"
   ]
  },
  {
   "cell_type": "markdown",
   "id": "d87ff3cc",
   "metadata": {},
   "source": [
    "# Input and output\n",
    "An essential part of programming is the ability to input and output data. This allows users to interact with programs and view the results of the program."
   ]
  },
  {
   "cell_type": "code",
   "execution_count": 3,
   "id": "a4611f46",
   "metadata": {},
   "outputs": [
    {
     "name": "stdout",
     "output_type": "stream",
     "text": [
      "Enter a number 51\n",
      "You entered 51\n"
     ]
    }
   ],
   "source": [
    "a=input(\"Enter a number \")\n",
    "print(\"You entered\", a)"
   ]
  },
  {
   "cell_type": "markdown",
   "id": "dd54d1d8",
   "metadata": {},
   "source": [
    "# Data types\n",
    "There are lots of different types of data that you will need to use in programs at different points. Python makes it quite easy to use different types and switch between them. "
   ]
  },
  {
   "cell_type": "code",
   "execution_count": 47,
   "id": "3b28ccce",
   "metadata": {},
   "outputs": [],
   "source": [
    "an_integer = 1\n",
    "#float = 1.1    if your variable name appears green, its a Python keyword - don't use it!\n",
    "a_float = 1.105\n",
    "a_boolean = True\n",
    "another_bool = False\n",
    "a_string = \"some letters and words and ch4r4ct3rs @\\/.f27y\"\n",
    "another_string = \"a\""
   ]
  },
  {
   "cell_type": "code",
   "execution_count": 48,
   "id": "a4c10ab4",
   "metadata": {},
   "outputs": [
    {
     "name": "stdout",
     "output_type": "stream",
     "text": [
      "10\n"
     ]
    }
   ],
   "source": [
    "#we can convert from one type of data to another\n",
    "my_int = 10\n",
    "print(my_int)"
   ]
  },
  {
   "cell_type": "code",
   "execution_count": 49,
   "id": "0b68f5e7",
   "metadata": {},
   "outputs": [
    {
     "name": "stdout",
     "output_type": "stream",
     "text": [
      "10.0\n",
      "10\n"
     ]
    }
   ],
   "source": [
    "#the FUNCTION float() will convert something to a float, int() will convert to integer\n",
    "my_int=float(my_int)\n",
    "print(my_int)\n",
    "my_int = int(my_int)\n",
    "print(my_int)"
   ]
  },
  {
   "cell_type": "code",
   "execution_count": 50,
   "id": "2b37b717",
   "metadata": {},
   "outputs": [],
   "source": [
    "#string_to_int = int(\"a string\")\n",
    "string_to_int = int(\"1000\")"
   ]
  },
  {
   "cell_type": "markdown",
   "id": "dc73dfcc",
   "metadata": {},
   "source": [
    "# Operators\n",
    "Operators perform operations on variables and values, i.e. we can do maths in Python using the basic arithmetic operations."
   ]
  },
  {
   "cell_type": "code",
   "execution_count": 82,
   "id": "59c25dbd",
   "metadata": {},
   "outputs": [
    {
     "name": "stdout",
     "output_type": "stream",
     "text": [
      "13\n"
     ]
    }
   ],
   "source": [
    "# OPERATIONS\n",
    "x = 10\n",
    "y = 3\n",
    "\n",
    "# Addition\n",
    "c = x+y\n",
    "print(c)"
   ]
  },
  {
   "cell_type": "code",
   "execution_count": 83,
   "id": "dd0cce2e",
   "metadata": {},
   "outputs": [
    {
     "name": "stdout",
     "output_type": "stream",
     "text": [
      "7\n"
     ]
    }
   ],
   "source": [
    "# Subtraction\n",
    "c = x-y\n",
    "print(c)"
   ]
  },
  {
   "cell_type": "code",
   "execution_count": 85,
   "id": "2747a452",
   "metadata": {},
   "outputs": [
    {
     "name": "stdout",
     "output_type": "stream",
     "text": [
      "30\n"
     ]
    }
   ],
   "source": [
    "# Multiplication\n",
    "c = x*y\n",
    "print(c)"
   ]
  },
  {
   "cell_type": "code",
   "execution_count": 86,
   "id": "68bbb6df",
   "metadata": {},
   "outputs": [
    {
     "name": "stdout",
     "output_type": "stream",
     "text": [
      "3.3333333333333335\n"
     ]
    }
   ],
   "source": [
    "# Division\n",
    "c = x/y\n",
    "print(c)"
   ]
  },
  {
   "cell_type": "code",
   "execution_count": 88,
   "id": "a5370402",
   "metadata": {},
   "outputs": [
    {
     "name": "stdout",
     "output_type": "stream",
     "text": [
      "1000\n"
     ]
    }
   ],
   "source": [
    "# Exponentiation\n",
    "# x \"to the power of y\", i.e. x squared would be written x**2, x cubes, x**3\n",
    "c = x**y   \n",
    "print(c)"
   ]
  },
  {
   "cell_type": "code",
   "execution_count": 89,
   "id": "46bf2da6",
   "metadata": {},
   "outputs": [
    {
     "name": "stdout",
     "output_type": "stream",
     "text": [
      "1\n"
     ]
    }
   ],
   "source": [
    "# Modulus\n",
    "# Remainder after division, x mod y. I.e. if a number is even, x%2 would be 0, if x is odd, x%2 = 1\n",
    "c = x%y\n",
    "print(c)"
   ]
  },
  {
   "cell_type": "code",
   "execution_count": 90,
   "id": "15c61ada",
   "metadata": {},
   "outputs": [
    {
     "name": "stdout",
     "output_type": "stream",
     "text": [
      "3\n"
     ]
    }
   ],
   "source": [
    "# Floor division\n",
    "# divide and round down to nearest integer\n",
    "c = x//y\n",
    "print(c)"
   ]
  },
  {
   "cell_type": "markdown",
   "id": "46a3d0e3",
   "metadata": {},
   "source": [
    "# Conditionals and Iteration\n",
    "Conditions are used to control the flow of a program, essentially they are used to only perform some operations or sections of code if some condition is met.\n",
    "\n",
    "Iteration or looping is the process of repeating certain sections of code a number of times. If we specify the number of times the loop should repeat, we call this <b>definite</b> iteration, if we tell the program to repeat the loop until some condition is met it is called <b>indefinite</b> iteration.\n",
    "\n",
    "### Conditional statements (if, elif, else)"
   ]
  },
  {
   "cell_type": "code",
   "execution_count": 54,
   "id": "e8888123",
   "metadata": {},
   "outputs": [],
   "source": [
    "a = 5    \n",
    "b = 1\n",
    "# if statements, only execute IF the CONDITION is true\n",
    "# if condition:\n",
    "#     indented code will only execute if condition is true\n",
    "if a == b:\n",
    "    print(\"this line of code will run if a is equal to b\")\n",
    "# Try changing the values of a and b to make the if statement execute"
   ]
  },
  {
   "cell_type": "code",
   "execution_count": 55,
   "id": "7f957ecf",
   "metadata": {},
   "outputs": [
    {
     "name": "stdout",
     "output_type": "stream",
     "text": [
      "a is less than b\n"
     ]
    }
   ],
   "source": [
    "a = 1\n",
    "b = 7\n",
    "# we can add other conditions, which will run if other conditions are met\n",
    "if a<b:\n",
    "    print('a is less than b')\n",
    "elif a==b:\n",
    "    print('a is equal to b')\n",
    "else:\n",
    "    print('a is greater than b')\n",
    "    \n",
    "# < is \"less than\"\n",
    "# > is \"greater than\"\n",
    "# == is \"equal to\"\n",
    "# != is \"not equal to\" \n",
    "# <= or >=, \"less than or equal to\" and \"greater than or equal to\""
   ]
  },
  {
   "cell_type": "markdown",
   "id": "424fa3ba",
   "metadata": {},
   "source": [
    "### Iteration (loops) are \"for\" or \"while\" statements"
   ]
  },
  {
   "cell_type": "code",
   "execution_count": 58,
   "id": "01a6f0ca",
   "metadata": {},
   "outputs": [
    {
     "name": "stdout",
     "output_type": "stream",
     "text": [
      "1\n",
      "2\n",
      "3\n",
      "4\n",
      "5\n",
      "6\n",
      "7\n",
      "8\n",
      "9\n"
     ]
    }
   ],
   "source": [
    "# definite loop\n",
    "for a in range(1,10):\n",
    "    print(a)           # this line runs 10 times, each time the value of the variable \"a\" changes"
   ]
  },
  {
   "cell_type": "code",
   "execution_count": 59,
   "id": "ef6e0b89",
   "metadata": {},
   "outputs": [
    {
     "name": "stdout",
     "output_type": "stream",
     "text": [
      "1\n",
      "2\n",
      "10\n",
      "a\n",
      "b\n",
      "c\n"
     ]
    }
   ],
   "source": [
    "for x in [1,2,10,\"a\",\"b\",\"c\"]:\n",
    "    print(x)     # all the code here will run 6 times, the length of the list above. \n",
    "                 # The variable cycles through the list of data"
   ]
  },
  {
   "cell_type": "code",
   "execution_count": 60,
   "id": "5350d3e6",
   "metadata": {},
   "outputs": [
    {
     "name": "stdout",
     "output_type": "stream",
     "text": [
      "1\n",
      "2\n",
      "3\n",
      "4\n",
      "5\n",
      "6\n",
      "7\n",
      "8\n",
      "9\n"
     ]
    }
   ],
   "source": [
    "# indefinite loop\n",
    "# use this when you want some code to run until a certain condition is met\n",
    "a=1\n",
    "while a<10:\n",
    "    print(a)\n",
    "    a = a+1     #increase a by 1 on every loop, when a = 10 the loop will stop"
   ]
  },
  {
   "cell_type": "markdown",
   "id": "82e5d648",
   "metadata": {},
   "source": [
    "# Lists\n",
    "\n",
    "Lists are a special type of variable which can hold more than one value. Create a list by using square brackets [ ], with data separated by commas.\n",
    "\n",
    "Lists can have any type of variable or a mixture in them. You can access the contents of the list with square brackets, the first item is my_list[0], then my_list[1] etc... (important to remember the first item is number 0)  \n",
    "\n",
    "There are other useful built in functions and methods for lists."
   ]
  },
  {
   "cell_type": "code",
   "execution_count": 61,
   "id": "18c4dc6a",
   "metadata": {},
   "outputs": [
    {
     "name": "stdout",
     "output_type": "stream",
     "text": [
      "[1, 2, 5, 7, 8, 9, 3, 1000, 0.1]\n"
     ]
    }
   ],
   "source": [
    "my_list = [1,2,5,7,8,9,3,1000,0.1]\n",
    "print(my_list)"
   ]
  },
  {
   "cell_type": "code",
   "execution_count": 62,
   "id": "ab4e57b2",
   "metadata": {},
   "outputs": [
    {
     "name": "stdout",
     "output_type": "stream",
     "text": [
      "['a', 'b', '123', 123, 1, 'a string', 30.0, 1.0784]\n"
     ]
    }
   ],
   "source": [
    "# Lists can have any type of variable or a mixture in them\n",
    "my_other_list = ['a','b','123',123,1,'a string', float(30),1.0784]\n",
    "print(my_other_list)"
   ]
  },
  {
   "cell_type": "code",
   "execution_count": 63,
   "id": "9fe505f6",
   "metadata": {},
   "outputs": [
    {
     "name": "stdout",
     "output_type": "stream",
     "text": [
      "1\n",
      "2\n",
      "0.1\n"
     ]
    }
   ],
   "source": [
    "# Access the contents of the list with square brackets, the first item is my_list[0] etc..\n",
    "\n",
    "print(my_list[0])\n",
    "print(my_list[1])\n",
    "print(my_list[-1])"
   ]
  },
  {
   "cell_type": "code",
   "execution_count": 64,
   "id": "c5ca19ac",
   "metadata": {},
   "outputs": [
    {
     "name": "stdout",
     "output_type": "stream",
     "text": [
      "9\n"
     ]
    }
   ],
   "source": [
    "# Use len to get the length of a list\n",
    "length = len(my_list)\n",
    "print(length)"
   ]
  },
  {
   "cell_type": "code",
   "execution_count": 65,
   "id": "1bcdbe1c",
   "metadata": {},
   "outputs": [
    {
     "name": "stdout",
     "output_type": "stream",
     "text": [
      "1000\n",
      "0.1\n",
      "1035.1\n"
     ]
    }
   ],
   "source": [
    "# Other useful built-in FUNCTIONS\n",
    "maximum = max(my_list)\n",
    "print(maximum)\n",
    "minimum = min(my_list)\n",
    "print(minimum)\n",
    "total = sum(my_list)\n",
    "print(total)"
   ]
  },
  {
   "cell_type": "code",
   "execution_count": 66,
   "id": "934f685b",
   "metadata": {},
   "outputs": [
    {
     "name": "stdout",
     "output_type": "stream",
     "text": [
      "[1, 2, 5, 7, 8, 9, 3, 1000, 0.1, 'new string']\n",
      "[1, 2, 5, 7, 9, 3, 1000, 0.1, 'new string']\n",
      "1\n"
     ]
    }
   ],
   "source": [
    "# Lists also have some \"methods\", a type of function which can only be used by lists\n",
    "# Access these with my_list.name_of_method() syntax, - list DOT method ()\n",
    "\n",
    "# add something to the end\n",
    "my_list.append('new string')\n",
    "print(my_list)\n",
    "\n",
    "# remove the 5th item\n",
    "my_list.pop(4)\n",
    "print(my_list)\n",
    "\n",
    "# type my_list. and then press tab to see other available methods\n",
    "# note that when you use some methods, it modifies the contents of my_list directly\n",
    "# we don't need to assign the changed list to my_list like with the function syntax before\n",
    "\n",
    "# other methods will just return a number based on the contents of the list\n",
    "# if we want to use that information, we will need to assign a variable\n",
    "count_3 = my_list.count(3)\n",
    "print(count_3)"
   ]
  },
  {
   "cell_type": "markdown",
   "id": "9d57fc91",
   "metadata": {},
   "source": [
    "# Libraries\n",
    "\n",
    "Libraries, modules or packages are collections of code that we might want to use.\n",
    "\n",
    "We need to \"import\" modules at the start of our code to load them up. The example below imports the \"random\" library, and \"math\" library. Random is a collection of functions for generating random (pseudorandom) numbers, and math is a collection for doing maths.\n",
    "\n",
    "We use the \".\" notation to use the functions which are part of the library,\n",
    "\n",
    "library_name.function_name(function_arguments)"
   ]
  },
  {
   "cell_type": "code",
   "execution_count": 69,
   "id": "677fbe60",
   "metadata": {
    "scrolled": true
   },
   "outputs": [
    {
     "name": "stdout",
     "output_type": "stream",
     "text": [
      "83\n"
     ]
    }
   ],
   "source": [
    "# Generate random numbers\n",
    "# we can import the random module at the start of our script\n",
    "import random\n",
    "\n",
    "# Generate a random number between 1 and 10\n",
    "random.randint(1,10)\n",
    "\n",
    "x = random.randint(1,100)\n",
    "print(x)"
   ]
  },
  {
   "cell_type": "code",
   "execution_count": 70,
   "id": "646a28bc",
   "metadata": {},
   "outputs": [
    {
     "name": "stdout",
     "output_type": "stream",
     "text": [
      "a\n"
     ]
    }
   ],
   "source": [
    "# \"Choice\" selects an item from a list at random\n",
    "our_list = [\"a\", \"b\", \"c\", \"one\", \"two\", \"three\"]\n",
    "chosen = random.choice(our_list)\n",
    "print(chosen)"
   ]
  },
  {
   "cell_type": "code",
   "execution_count": 72,
   "id": "27f7284b",
   "metadata": {},
   "outputs": [
    {
     "name": "stdout",
     "output_type": "stream",
     "text": [
      "3.141592653589793\n",
      "-0.8390715290764524\n",
      "0.09983341664682815\n",
      "1033.0987368107658\n"
     ]
    }
   ],
   "source": [
    "import math\n",
    "\n",
    "print(math.pi)\n",
    "print(math.cos(10))\n",
    "print(math.sin(0.1))\n",
    "print(math.sqrt(1067293))"
   ]
  },
  {
   "cell_type": "markdown",
   "id": "acb92c61",
   "metadata": {},
   "source": [
    "# String operations\n",
    "\n",
    "There are a number of ways we can manipulate strings in Python, which we can use to combine words and longer sections of text for display or reading/writing to files. \n",
    "\n",
    "Strings act a bit like lists in that we can use square brackets [ ] to access specific characters, and we can loop (iterate) through them.\n",
    "\n",
    "There are also built in methods for common string operations."
   ]
  }
 ],
 "metadata": {
  "kernelspec": {
   "display_name": "Python 3 (ipykernel)",
   "language": "python",
   "name": "python3"
  },
  "language_info": {
   "codemirror_mode": {
    "name": "ipython",
    "version": 3
   },
   "file_extension": ".py",
   "mimetype": "text/x-python",
   "name": "python",
   "nbconvert_exporter": "python",
   "pygments_lexer": "ipython3",
   "version": "3.9.13"
  }
 },
 "nbformat": 4,
 "nbformat_minor": 5
}

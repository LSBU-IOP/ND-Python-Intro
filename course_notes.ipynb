{
 "cells": [
  {
   "cell_type": "markdown",
   "id": "c0a7bf5b",
   "metadata": {},
   "source": [
    "Program  \n",
    "Sign-in  \n",
    "Webpage - resources  \n",
    "Binder - Jupyter tutorial  \n",
    "    edit, select, run cells, new cell  \n"
   ]
  },
  {
   "cell_type": "markdown",
   "id": "3a83fe4d",
   "metadata": {},
   "source": [
    "# Variables\n",
    "\n",
    "Variables are how we store information when programming, variables have a name and contain some data (a number or word etc.)  \n",
    "\n",
    "Create a variable by giving it a name, and setting it equal to some data with =  \n",
    "\n",
    "This is called <b>assignment</b> \n",
    "\n",
    "In Python, we don't need to <b>declare</b> variables like in some other languages, this means we don't need to have a line at the start of our program where we say what our variable is called and specify the type of data it will contain. We can create and assign any type of data to variables at any point in our program. This means that Python is what is called a <b>type-inferred</b> programming language."
   ]
  },
  {
   "cell_type": "code",
   "execution_count": 5,
   "id": "4059a042",
   "metadata": {},
   "outputs": [
    {
     "name": "stdout",
     "output_type": "stream",
     "text": [
      "1000000\n",
      "1\n",
      "2\n"
     ]
    }
   ],
   "source": [
    "variable = 1\n",
    "a = 2\n",
    "a,b,c = 1,2,3\n",
    "this_is_a_long_variable_name = 1000000\n",
    "good_naming_convention = 100.1\n",
    "BadNamingConvention = 6\n",
    "worsenamingconvention = 'a sentence'\n",
    "\n",
    "# print() is a FUNCTION which will display the value of a variable\n",
    "\n",
    "print(this_is_a_long_variable_name)\n",
    "\n",
    "# We can reassign named variables in the same way\n",
    "print(variable)\n",
    "variable = 2\n",
    "print(variable)b"
   ]
  },
  {
   "cell_type": "markdown",
   "id": "d87ff3cc",
   "metadata": {},
   "source": [
    "# Input and output\n",
    "An essential part of programming is the ability to input and output data. This allows users to interact with programs and view the results of the program."
   ]
  },
  {
   "cell_type": "code",
   "execution_count": 7,
   "id": "a4611f46",
   "metadata": {},
   "outputs": [
    {
     "name": "stdout",
     "output_type": "stream",
     "text": [
      "Enter a number a\n",
      "You entered a\n"
     ]
    }
   ],
   "source": [
    "a=input(\"Enter a number \")\n",
    "print(\"You entered\", a)"
   ]
  },
  {
   "cell_type": "markdown",
   "id": "dd54d1d8",
   "metadata": {},
   "source": [
    "# Data types\n",
    "There are lots of different types of data that you will need to use in programs at different points. Python makes it quite easy to use different types and switch between them. "
   ]
  },
  {
   "cell_type": "code",
   "execution_count": null,
   "id": "3b28ccce",
   "metadata": {},
   "outputs": [],
   "source": [
    "an_integer = 1\n",
    "#float = 1.1\n",
    "a_float = 1.105\n",
    "a_boolean = True\n",
    "another_bool = False\n",
    "a_string = \"some letters and words and ch4r4ct3rs @\\/.f27y\"\n",
    "another_string = \"a\"\n",
    "\n",
    "#we can convert from one type of data to another\n",
    "my_int = 10\n",
    "print(my_int)\n",
    "\n",
    "#the FUNCTION float() will convert something to a float, int() will convert to integer\n",
    "my_int=float(my_int)\n",
    "print(my_int)\n",
    "my_int = int(my_int)\n",
    "print(my_int)\n",
    "\n",
    "#string_to_int = int(\"a string\")\n",
    "string_to_int = int(\"1000\")"
   ]
  },
  {
   "cell_type": "markdown",
   "id": "dc73dfcc",
   "metadata": {},
   "source": [
    "# Operators\n",
    "Operators perform operations on variables and values, i.e. we can do maths in Python using the basic arithmetic operations."
   ]
  },
  {
   "cell_type": "code",
   "execution_count": 14,
   "id": "59c25dbd",
   "metadata": {},
   "outputs": [
    {
     "name": "stdout",
     "output_type": "stream",
     "text": [
      "13\n",
      "7\n",
      "30\n",
      "3.3333333333333335\n",
      "1\n",
      "1000\n",
      "3\n"
     ]
    }
   ],
   "source": [
    "# OPERATIONS\n",
    "x = 10\n",
    "y = 3\n",
    "\n",
    "# Addition\n",
    "print(x+y)\n",
    "\n",
    "# Subtraction\n",
    "print(x-y)\n",
    "\n",
    "# Multiplication\n",
    "print(x*y)\n",
    "\n",
    "# Division\n",
    "print(x/y)\n",
    "\n",
    "# Modulus\n",
    "print(x%y)\n",
    "\n",
    "# Exponentionation\n",
    "print(x**y)\n",
    "\n",
    "# Floor division\n",
    "print(x//y)"
   ]
  },
  {
   "cell_type": "markdown",
   "id": "46a3d0e3",
   "metadata": {},
   "source": [
    "# Conditionals and Iteration\n",
    "Conditions are used to control the flow of a program, essentially they are used to only perform some operations or sections of code if some condition is met.\n",
    "\n",
    "Iteration or looping is the process of repeating certain sections of code a number of times. If we specify the number of times the loop should repeat, we call this <b>definite</b> iteration, if we tell the program to repeat the loop until some condition is met it is called <b>indefinite</b> iteration."
   ]
  },
  {
   "cell_type": "code",
   "execution_count": 10,
   "id": "e8888123",
   "metadata": {},
   "outputs": [
    {
     "name": "stdout",
     "output_type": "stream",
     "text": [
      "a is greater than b\n",
      "1\n",
      "2\n",
      "3\n",
      "4\n",
      "5\n",
      "6\n",
      "7\n",
      "8\n",
      "9\n",
      "1\n",
      "2\n",
      "3\n",
      "4\n",
      "5\n",
      "6\n",
      "7\n",
      "8\n",
      "9\n"
     ]
    }
   ],
   "source": [
    "a = 7.1\n",
    "b = 7\n",
    "\n",
    "# if, else if, else statements\n",
    "if a<b:\n",
    "    print('a is less than b')\n",
    "elif a==b:\n",
    "    print('a is equal to b')\n",
    "else:\n",
    "    print('a is greater than b')\n",
    "    \n",
    "# definite loop\n",
    "for a in range(1,10):\n",
    "    print(a)\n",
    "    \n",
    "# indefinite loop\n",
    "a=1\n",
    "while a<10:\n",
    "    print(a)\n",
    "    a = a+1"
   ]
  },
  {
   "cell_type": "markdown",
   "id": "82e5d648",
   "metadata": {},
   "source": [
    "# LISTS\n",
    "\n",
    "Lists are a special type of variable which can hold more than one value. Create a list by using square brackets [ ], with data separated by commas.\n",
    "\n",
    "Lists can have any type of variable or a mixture in them. You can access the contents of the list with square brackets, the first item is my_list[0], then my_list[1] etc... (important to remember the first item is number 0)  \n",
    "\n",
    "There are other useful built in functions and methods for lists."
   ]
  },
  {
   "cell_type": "code",
   "execution_count": null,
   "id": "18c4dc6a",
   "metadata": {},
   "outputs": [],
   "source": [
    "my_list = [1,2,5,7,8,9,3,1000,0.1]\n",
    "print(my_list)\n",
    "\n",
    "# Lists can have any type of variable or a mixture in them\n",
    "my_other_list = ['a','b','123',123,1,'a string', float(30),1.0784]\n",
    "\n",
    "# Access the contents of the list with square brackets, the first item is my_list[0] etc..\n",
    "\n",
    "print(my_list[0])\n",
    "print(my_list[1])\n",
    "print(my_list[-1])\n",
    "\n",
    "# Use len to get the length of a list\n",
    "length = len(my_list)\n",
    "print(length)\n",
    "\n",
    "# Other useful built-in FUNCTIONS\n",
    "maximum = max(my_list)\n",
    "print(maximum)\n",
    "minimum = min(my_list)\n",
    "print(minimum)\n",
    "total = sum(my_list)\n",
    "print(total)\n",
    "\n",
    "# Lists also have some \"methods\", a type of function which can only be used by lists\n",
    "# Access these with my_list.name_of_method() syntax, - list DOT method ()\n",
    "\n",
    "# add something to the end\n",
    "my_list.append('new string')\n",
    "print(my_list)\n",
    "\n",
    "# remove the 5th item\n",
    "my_list.pop(4)\n",
    "print(my_list)\n",
    "\n",
    "# type my_list. and then press tab to see other available methods\n",
    "# note that when you use some methods, it modifies the contents of my_list directly\n",
    "# we don't need to assign the changed list to my_list like with the function syntax before\n",
    "\n",
    "# other methods will just return a number based on the contents of the list\n",
    "# if we want to use that information, we will need to assign a variable\n",
    "count_3 = my_list.count(3)\n",
    "print(count_3)"
   ]
  },
  {
   "cell_type": "code",
   "execution_count": 29,
   "id": "677fbe60",
   "metadata": {},
   "outputs": [
    {
     "data": {
      "text/plain": [
       "6"
      ]
     },
     "execution_count": 29,
     "metadata": {},
     "output_type": "execute_result"
    }
   ],
   "source": [
    "# Generate random numbers\n",
    "# we can import the random module\n",
    "import random\n",
    "random.randint(1,10)"
   ]
  }
 ],
 "metadata": {
  "kernelspec": {
   "display_name": "Python 3 (ipykernel)",
   "language": "python",
   "name": "python3"
  },
  "language_info": {
   "codemirror_mode": {
    "name": "ipython",
    "version": 3
   },
   "file_extension": ".py",
   "mimetype": "text/x-python",
   "name": "python",
   "nbconvert_exporter": "python",
   "pygments_lexer": "ipython3",
   "version": "3.9.13"
  }
 },
 "nbformat": 4,
 "nbformat_minor": 5
}

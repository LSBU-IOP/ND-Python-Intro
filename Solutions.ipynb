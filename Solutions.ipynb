{
 "cells": [
  {
   "cell_type": "markdown",
   "id": "20c9ee1f",
   "metadata": {},
   "source": [
    "# Week 1\n",
    "* variables\n",
    "* operators (maths)\n",
    "* text input/output\n",
    "* iteration/loops\n",
    "* conditionals (if, else, elif)"
   ]
  },
  {
   "cell_type": "markdown",
   "id": "a2afa05a",
   "metadata": {},
   "source": [
    "___\n",
    "a) Write a program that prints Hello World! onto the screen"
   ]
  },
  {
   "cell_type": "code",
   "execution_count": 2,
   "id": "0161d861",
   "metadata": {
    "scrolled": true
   },
   "outputs": [
    {
     "name": "stdout",
     "output_type": "stream",
     "text": [
      "Hello World!\n"
     ]
    }
   ],
   "source": [
    "print(\"Hello World!\")"
   ]
  },
  {
   "cell_type": "markdown",
   "id": "228f0397",
   "metadata": {},
   "source": [
    "***\n",
    "b) Write a program that asks the user for their name and then greets them"
   ]
  },
  {
   "cell_type": "code",
   "execution_count": 1,
   "id": "499d8bc9",
   "metadata": {},
   "outputs": [
    {
     "name": "stdout",
     "output_type": "stream",
     "text": [
      "Enter your name: Bonar\n",
      "Hello Bonar\n"
     ]
    }
   ],
   "source": [
    "name = input(\"Enter your name: \")\n",
    "print(\"Hello\", name)"
   ]
  },
  {
   "cell_type": "markdown",
   "id": "552bf322",
   "metadata": {},
   "source": [
    "***\n",
    "c) Write a program that asks the user for the radius of a circle and then prints the area of the circle on the screen"
   ]
  },
  {
   "cell_type": "code",
   "execution_count": 9,
   "id": "f0037282",
   "metadata": {},
   "outputs": [
    {
     "name": "stdout",
     "output_type": "stream",
     "text": [
      "Enter the radius (cm): 1\n",
      "The area is 3.141592653589793 cm^2\n"
     ]
    }
   ],
   "source": [
    "import math\n",
    "radius_string = input(\"Enter the radius (cm): \")\n",
    "radius = int(radius_string)   #convert from string to an integer\n",
    "area = math.pi * radius**2\n",
    "print(\"The area is\", area, \"cm^2\")"
   ]
  },
  {
   "cell_type": "markdown",
   "id": "a5f8e775",
   "metadata": {},
   "source": [
    "___\n",
    "d) Write a program that asks the user for a number n and prints the sum\n",
    "of the numbers 1 to n"
   ]
  },
  {
   "cell_type": "code",
   "execution_count": 24,
   "id": "3778ff10",
   "metadata": {},
   "outputs": [
    {
     "name": "stdout",
     "output_type": "stream",
     "text": [
      "Enter a number: 3\n",
      "The sum of 1 to n is: 6\n"
     ]
    }
   ],
   "source": [
    "n = input(\"Enter a number: \")\n",
    "n = int(n) #convert to an integer\n",
    "\n",
    "#use a loop\n",
    "total = 0\n",
    "for i in range(1,n+1):\n",
    "    total=total+i\n",
    "    \n",
    "#or use a while loop\n",
    "total = 0\n",
    "i=0\n",
    "while i <= n:\n",
    "    total = total+i\n",
    "    i = i+1\n",
    "\n",
    "print(\"The sum of 1 to n is:\",total)\n"
   ]
  },
  {
   "cell_type": "code",
   "execution_count": 17,
   "id": "38c80cb1",
   "metadata": {
    "scrolled": true
   },
   "outputs": [
    {
     "name": "stdout",
     "output_type": "stream",
     "text": [
      "Enter a number: 3\n",
      "The sum of 1 to n is: 6\n"
     ]
    }
   ],
   "source": [
    "#alternatively\n",
    "n = int(input(\"Enter a number: \"))\n",
    "total = sum(range(1,n+1)) #range gives a list which we can use the sum function on\n",
    "print(\"The sum of 1 to n is:\",total)"
   ]
  },
  {
   "cell_type": "markdown",
   "id": "2326734d",
   "metadata": {},
   "source": [
    "___\n",
    "e) Write a program that prints a multiplication table for numbers up to 12. "
   ]
  },
  {
   "cell_type": "code",
   "execution_count": 35,
   "id": "bd306a9b",
   "metadata": {},
   "outputs": [
    {
     "name": "stdout",
     "output_type": "stream",
     "text": [
      "7 x 1 = 7\n",
      "7 x 2 = 14\n",
      "7 x 3 = 21\n",
      "7 x 4 = 28\n",
      "7 x 5 = 35\n",
      "7 x 6 = 42\n",
      "7 x 7 = 49\n",
      "7 x 8 = 56\n",
      "7 x 9 = 63\n",
      "7 x 10 = 70\n",
      "7 x 11 = 77\n",
      "7 x 12 = 84\n"
     ]
    }
   ],
   "source": [
    "for i in range(1,13):\n",
    "    print(\"7\",\"x\",i,\"=\",7*i)"
   ]
  },
  {
   "cell_type": "code",
   "execution_count": 60,
   "id": "0796c947",
   "metadata": {},
   "outputs": [
    {
     "name": "stdout",
     "output_type": "stream",
     "text": [
      "1 x 1 = 1\n",
      "1 x 2 = 2\n",
      "1 x 3 = 3\n",
      "1 x 4 = 4\n",
      "1 x 5 = 5\n",
      "1 x 6 = 6\n",
      "1 x 7 = 7\n",
      "1 x 8 = 8\n",
      "1 x 9 = 9\n",
      "1 x 10 = 10\n",
      "1 x 11 = 11\n",
      "1 x 12 = 12\n",
      "2 x 1 = 2\n",
      "2 x 2 = 4\n",
      "2 x 3 = 6\n",
      "2 x 4 = 8\n",
      "2 x 5 = 10\n",
      "2 x 6 = 12\n",
      "2 x 7 = 14\n",
      "2 x 8 = 16\n",
      "2 x 9 = 18\n",
      "2 x 10 = 20\n",
      "2 x 11 = 22\n",
      "2 x 12 = 24\n",
      "3 x 1 = 3\n",
      "3 x 2 = 6\n",
      "3 x 3 = 9\n",
      "3 x 4 = 12\n",
      "3 x 5 = 15\n",
      "3 x 6 = 18\n",
      "3 x 7 = 21\n",
      "3 x 8 = 24\n",
      "3 x 9 = 27\n",
      "3 x 10 = 30\n",
      "3 x 11 = 33\n",
      "3 x 12 = 36\n",
      "4 x 1 = 4\n",
      "4 x 2 = 8\n",
      "4 x 3 = 12\n",
      "4 x 4 = 16\n",
      "4 x 5 = 20\n",
      "4 x 6 = 24\n",
      "4 x 7 = 28\n",
      "4 x 8 = 32\n",
      "4 x 9 = 36\n",
      "4 x 10 = 40\n",
      "4 x 11 = 44\n",
      "4 x 12 = 48\n",
      "5 x 1 = 5\n",
      "5 x 2 = 10\n",
      "5 x 3 = 15\n",
      "5 x 4 = 20\n",
      "5 x 5 = 25\n",
      "5 x 6 = 30\n",
      "5 x 7 = 35\n",
      "5 x 8 = 40\n",
      "5 x 9 = 45\n",
      "5 x 10 = 50\n",
      "5 x 11 = 55\n",
      "5 x 12 = 60\n",
      "6 x 1 = 6\n",
      "6 x 2 = 12\n",
      "6 x 3 = 18\n",
      "6 x 4 = 24\n",
      "6 x 5 = 30\n",
      "6 x 6 = 36\n",
      "6 x 7 = 42\n",
      "6 x 8 = 48\n",
      "6 x 9 = 54\n",
      "6 x 10 = 60\n",
      "6 x 11 = 66\n",
      "6 x 12 = 72\n",
      "7 x 1 = 7\n",
      "7 x 2 = 14\n",
      "7 x 3 = 21\n",
      "7 x 4 = 28\n",
      "7 x 5 = 35\n",
      "7 x 6 = 42\n",
      "7 x 7 = 49\n",
      "7 x 8 = 56\n",
      "7 x 9 = 63\n",
      "7 x 10 = 70\n",
      "7 x 11 = 77\n",
      "7 x 12 = 84\n",
      "8 x 1 = 8\n",
      "8 x 2 = 16\n",
      "8 x 3 = 24\n",
      "8 x 4 = 32\n",
      "8 x 5 = 40\n",
      "8 x 6 = 48\n",
      "8 x 7 = 56\n",
      "8 x 8 = 64\n",
      "8 x 9 = 72\n",
      "8 x 10 = 80\n",
      "8 x 11 = 88\n",
      "8 x 12 = 96\n",
      "9 x 1 = 9\n",
      "9 x 2 = 18\n",
      "9 x 3 = 27\n",
      "9 x 4 = 36\n",
      "9 x 5 = 45\n",
      "9 x 6 = 54\n",
      "9 x 7 = 63\n",
      "9 x 8 = 72\n",
      "9 x 9 = 81\n",
      "9 x 10 = 90\n",
      "9 x 11 = 99\n",
      "9 x 12 = 108\n",
      "10 x 1 = 10\n",
      "10 x 2 = 20\n",
      "10 x 3 = 30\n",
      "10 x 4 = 40\n",
      "10 x 5 = 50\n",
      "10 x 6 = 60\n",
      "10 x 7 = 70\n",
      "10 x 8 = 80\n",
      "10 x 9 = 90\n",
      "10 x 10 = 100\n",
      "10 x 11 = 110\n",
      "10 x 12 = 120\n",
      "11 x 1 = 11\n",
      "11 x 2 = 22\n",
      "11 x 3 = 33\n",
      "11 x 4 = 44\n",
      "11 x 5 = 55\n",
      "11 x 6 = 66\n",
      "11 x 7 = 77\n",
      "11 x 8 = 88\n",
      "11 x 9 = 99\n",
      "11 x 10 = 110\n",
      "11 x 11 = 121\n",
      "11 x 12 = 132\n",
      "12 x 1 = 12\n",
      "12 x 2 = 24\n",
      "12 x 3 = 36\n",
      "12 x 4 = 48\n",
      "12 x 5 = 60\n",
      "12 x 6 = 72\n",
      "12 x 7 = 84\n",
      "12 x 8 = 96\n",
      "12 x 9 = 108\n",
      "12 x 10 = 120\n",
      "12 x 11 = 132\n",
      "12 x 12 = 144\n"
     ]
    }
   ],
   "source": [
    "for i in range(1,13):\n",
    "    for j in range(1,13):\n",
    "        print(i,\"x\",j,\"=\",i*j)"
   ]
  },
  {
   "cell_type": "markdown",
   "id": "e406d383",
   "metadata": {},
   "source": [
    "___\n",
    "f) Write a program that asks for a number and then prints the square root of that number, if it is a square number."
   ]
  },
  {
   "cell_type": "code",
   "execution_count": 59,
   "id": "0486ce8a",
   "metadata": {},
   "outputs": [
    {
     "name": "stdout",
     "output_type": "stream",
     "text": [
      "Enter a number: 16\n",
      "16 is a square number\n"
     ]
    }
   ],
   "source": [
    "import math\n",
    "number = int(input(\"Enter a number: \"))\n",
    "if int(math.sqrt(number))**2==number:\n",
    "    print(number, \"is a square number\")\n",
    "else:\n",
    "    print(number, \"is not a square number\")"
   ]
  },
  {
   "cell_type": "markdown",
   "id": "44a61a3d",
   "metadata": {},
   "source": [
    "___\n",
    "g) Write a program that asks the user to input a year and tells us if it is a leap year\n",
    "\n",
    "I. A year may be a leap year if it is evenly divisible by 4.\n",
    "\n",
    "II. Years that are divisible by 100 cannot be leap years unless\n",
    "they are also divisible by 400. "
   ]
  },
  {
   "cell_type": "code",
   "execution_count": 54,
   "id": "d859de5a",
   "metadata": {},
   "outputs": [
    {
     "name": "stdout",
     "output_type": "stream",
     "text": [
      "Enter a year: 2001\n",
      "2001 is not a leap year\n"
     ]
    }
   ],
   "source": [
    "year = int(input(\"Enter a year: \"))\n",
    "if year%4==0:\n",
    "    if year%100 != 0:\n",
    "        print(year, \"is a leap year\")\n",
    "    elif year%400 ==0:\n",
    "        print(year, \"is a leap year\")\n",
    "else:\n",
    "    print(year, \"is not a leap year\")"
   ]
  },
  {
   "cell_type": "code",
   "execution_count": 60,
   "id": "ec1af8e8",
   "metadata": {},
   "outputs": [
    {
     "name": "stdout",
     "output_type": "stream",
     "text": [
      "Enter a year: 2024\n",
      "2024 is a leap year\n"
     ]
    }
   ],
   "source": [
    "# alternatively, combine the conditions\n",
    "year = int(input(\"Enter a year: \"))\n",
    "if (year%4==0 and year%100 != 0) or year%400 ==0:\n",
    "    print(year, \"is a leap year\")\n",
    "else:\n",
    "    print(year, \"is not a leap year\")"
   ]
  },
  {
   "cell_type": "markdown",
   "id": "c88a97b6",
   "metadata": {},
   "source": [
    "___\n",
    "h) Write a guessing game..."
   ]
  },
  {
   "cell_type": "code",
   "execution_count": 69,
   "id": "489eccbb",
   "metadata": {},
   "outputs": [
    {
     "name": "stdout",
     "output_type": "stream",
     "text": [
      "Enter your guess: 100\n",
      "Your guess is too high\n",
      "Enter your guess: 10\n",
      "You guessed right in 2 attempts\n"
     ]
    }
   ],
   "source": [
    "import random\n",
    "secret_num = random.randint(1,1000)\n",
    "playing = True\n",
    "num_guesses = 1\n",
    "guessed_numbers = []\n",
    "while playing:\n",
    "    guess = int(input(\"Enter your guess: \"))\n",
    "    if guess < secret_num:\n",
    "        print(\"Your guess is too low\")\n",
    "        guessed_numbers.append(guess)\n",
    "    elif guess > secret_num:\n",
    "        print(\"Your guess is too high\")\n",
    "        guessed_numbers.append(guess)       \n",
    "    else:\n",
    "        print(\"You guessed right in\", num_guesses, \"attempts\")\n",
    "        playing = False\n",
    "    if guessed_numbers.count(guess)==1:\n",
    "        num_guesses = num_guesses+1"
   ]
  }
 ],
 "metadata": {
  "kernelspec": {
   "display_name": "Python 3 (ipykernel)",
   "language": "python",
   "name": "python3"
  },
  "language_info": {
   "codemirror_mode": {
    "name": "ipython",
    "version": 3
   },
   "file_extension": ".py",
   "mimetype": "text/x-python",
   "name": "python",
   "nbconvert_exporter": "python",
   "pygments_lexer": "ipython3",
   "version": "3.9.13"
  }
 },
 "nbformat": 4,
 "nbformat_minor": 5
}
